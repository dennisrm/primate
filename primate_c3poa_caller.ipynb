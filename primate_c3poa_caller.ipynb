{
 "cells": [
  {
   "cell_type": "code",
   "execution_count": 2,
   "metadata": {},
   "outputs": [],
   "source": [
    "import os"
   ]
  },
  {
   "cell_type": "code",
   "execution_count": 38,
   "metadata": {},
   "outputs": [],
   "source": [
    "primate = \"/mnt/c/users/dmull/primate\"\n",
    "os.chdir(primate)\n"
   ]
  },
  {
   "cell_type": "code",
   "execution_count": 8,
   "metadata": {},
   "outputs": [
    {
     "name": "stdout",
     "output_type": "stream",
     "text": [
      "[1, 10, 100, 101, 102, 103, 104, 105, 106, 107, 108, 109, 11, 110, 111, 112, 113, 114, 115, 116, 117, 118, 119, 12, 120, 121, 122, 123, 124, 125, 126, 127, 128, 129, 13, 130, 131, 132, 133, 134, 135, 136, 137, 138, 139, 14, 140, 141, 142, 143, 144, 145, 146, 147, 148, 149, 15, 150, 151, 152, 153, 154, 155, 156, 157, 158, 159, 16, 160, 161, 162, 163, 17, 18, 19, 2, 20, 21, 22, 23, 24, 25, 26, 27, 28, 29, 3, 30, 31, 32, 33, 34, 35, 36, 37, 38, 39, 4, 40, 41, 42, 43, 44, 45, 46, 47, 48, 49, 5, 50, 51, 52, 53, 54, 55, 56, 57, 58, 59, 6, 60, 61, 62, 63, 64, 65, 66, 67, 68, 69, 7, 70, 71, 72, 73, 74, 75, 76, 77, 78, 79, 8, 80, 81, 82, 83, 84, 85, 86, 87, 88, 89, 9, 90, 91, 92, 93, 94, 95, 96, 97, 98, 99]\n"
     ]
    }
   ],
   "source": [
    "os.chdir(f\"{primate}/bonobo_r2c2/combined_splint_2\")\n",
    "numbers = [int(rawread.split(\"_\")[-1].split(\".\")[0]) for rawread in os.listdir()]\n",
    "print(numbers)"
   ]
  },
  {
   "cell_type": "code",
   "execution_count": 42,
   "metadata": {},
   "outputs": [
    {
     "name": "stdout",
     "output_type": "stream",
     "text": [
      "python /mnt/c/users/dmull/primate/C3POa/C3POa.py -t -r /mnt/c/users/dmull/primate/bonobo_r2c2/combined_splint_2/R2C2_raw_reads_1.fastq -p /mnt/c/users/dmull/primate/bonobo_r2c2/c3poa_temp/1 -o /mnt/c/users/dmull/primate/bonobo_r2c2/jupyter_consensus/R2C2_consensus_bonobo_1.fasta -c /mnt/c/users/dmull/primate/C3POa/example_config -m /mnt/c/users/dmull/primate/C3POa/NUC.4.4.mat\n"
     ]
    }
   ],
   "source": [
    "\n",
    "num = 1\n",
    "\n",
    "pycall = f\"python {primate}/C3POa/C3POa.py -t -r {primate}/bonobo_r2c2/combined_splint_2/R2C2_raw_reads_{num}.fastq -p {primate}/bonobo_r2c2/c3poa_temp/{num} -o {primate}/bonobo_r2c2/jupyter_consensus/R2C2_consensus_bonobo_{num}.fasta -c {primate}/C3POa/example_config -m {primate}/C3POa/NUC.4.4.mat\"\n",
    "\n",
    "print(pycall)"
   ]
  },
  {
   "cell_type": "code",
   "execution_count": 43,
   "metadata": {},
   "outputs": [
    {
     "name": "stdout",
     "output_type": "stream",
     "text": [
      "Process is interrupted.\n"
     ]
    }
   ],
   "source": [
    "%%bash -s \"$pycall\" \n",
    "$1"
   ]
  },
  {
   "cell_type": "code",
   "execution_count": null,
   "metadata": {},
   "outputs": [],
   "source": []
  }
 ],
 "metadata": {
  "kernelspec": {
   "display_name": "Python 3",
   "language": "python",
   "name": "python3"
  },
  "language_info": {
   "codemirror_mode": {
    "name": "ipython",
    "version": 3
   },
   "file_extension": ".py",
   "mimetype": "text/x-python",
   "name": "python",
   "nbconvert_exporter": "python",
   "pygments_lexer": "ipython3",
   "version": "3.6.8"
  }
 },
 "nbformat": 4,
 "nbformat_minor": 2
}
